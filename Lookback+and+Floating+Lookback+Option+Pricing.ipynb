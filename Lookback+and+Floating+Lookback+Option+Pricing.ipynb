{
 "cells": [
  {
   "cell_type": "code",
   "execution_count": 5,
   "metadata": {},
   "outputs": [
    {
     "name": "stdout",
     "output_type": "stream",
     "text": [
      "interest:  0.05\n",
      "Starting Price:  100\n",
      "Strike Price:  110\n",
      "Call Price of this option is: 0.0\n",
      "Put Priceof this option is: 12.925509085\n"
     ]
    }
   ],
   "source": [
    "#Lookback Option Pricing\n",
    " \n",
    "import numpy as np\n",
    "import math\n",
    " \n",
    "r = 0.05 #interest\n",
    "s0 = 100               #price at zero\n",
    "K = 110                 #strike price\n",
    "sigma = 0.1         #sigma\n",
    "T=1                        #time\n",
    "N=100                 \n",
    "EPOCH=100       \n",
    " \n",
    "C=0                        #call\n",
    "P=0                        #put\n",
    "wt=0\n",
    "st=[]\n",
    " \n",
    "for i in range(EPOCH):\n",
    "    for i in range(N):\n",
    "        wt= np.random.randn()*np.sqrt(T/N)\n",
    "        st1 = s0* np.exp((r-1/2*sigma**2)*(T/N)+sigma*wt)\n",
    "        st.append(st1)\n",
    " \n",
    "    C += np.exp(-r*T)*max(0,(max(st)-K))\n",
    "    P += np.exp(-r*T)*max(0,(K-min(st)))\n",
    " \n",
    "CallPrice = C/EPOCH\n",
    "PutPrice = P/EPOCH\n",
    "\n",
    "print('interest: ',r) \n",
    "print('Starting Price: ',s0,)\n",
    "print('Strike Price: ',K)\n",
    "print('Call Price of this option is:',CallPrice)\n",
    "print('Put Price of lookback option is:',PutPrice)"
   ]
  },
  {
   "cell_type": "code",
   "execution_count": 6,
   "metadata": {},
   "outputs": [
    {
     "name": "stdout",
     "output_type": "stream",
     "text": [
      "interest:  0.05\n",
      "Starting Price:  100\n",
      "Strike Price:  110\n",
      "Call Price of this option is: 3.22044493941\n",
      "Put Price of floating lookback option is: 3.40165450619\n"
     ]
    }
   ],
   "source": [
    "#Floating Lookback Option Pricing\n",
    " \n",
    "import numpy as np\n",
    " \n",
    "r = 0.05 #interest\n",
    "s0 = 100               #price at zero\n",
    "K = 110                 #Strike Price\n",
    "sigma = 0.1         #sigma\n",
    "T=1                        #time\n",
    "N=100                 \n",
    "EPOCH=100       \n",
    " \n",
    "C=0                        #call\n",
    "P=0                        #put\n",
    "wt=0\n",
    "st=0\n",
    "st=[]                      #st array\n",
    " \n",
    "for i in range(EPOCH):                   # loop EPOCH many times\n",
    "    for i in range(N):                         # loop N many times\n",
    "        wt= np.random.randn()*np.sqrt(T/N)\n",
    "        st1 = s0* np.exp((r-1/2*sigma**2)*(T/N)+sigma*wt)\n",
    "        st.append(st1)\n",
    " \n",
    "    C += np.exp(-r*T)*max(0,(st1-min(st)))\n",
    "    P += np.exp(-r*T)*max(0,(max(st)-st1))\n",
    " \n",
    "CallPrice = C/EPOCH\n",
    "PutPrice = P/EPOCH\n",
    " \n",
    "print('interest: ',r) \n",
    "print('Starting Price: ',s0,)\n",
    "print('Strike Price: ',K)\n",
    "print('Call Price of this option is:',CallPrice)\n",
    "print('Put Price of floating lookback option is:',PutPrice)"
   ]
  }
 ],
 "metadata": {
  "kernelspec": {
   "display_name": "Python 3",
   "language": "python",
   "name": "python3"
  },
  "language_info": {
   "codemirror_mode": {
    "name": "ipython",
    "version": 3
   },
   "file_extension": ".py",
   "mimetype": "text/x-python",
   "name": "python",
   "nbconvert_exporter": "python",
   "pygments_lexer": "ipython3",
   "version": "3.6.2"
  }
 },
 "nbformat": 4,
 "nbformat_minor": 2
}
